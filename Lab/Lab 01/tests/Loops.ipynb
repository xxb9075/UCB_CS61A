{
 "cells": [
  {
   "cell_type": "code",
   "execution_count": 1,
   "metadata": {
    "collapsed": true,
    "pycharm": {
     "name": "#%%\n",
     "is_executing": false
    }
   },
   "outputs": [
    {
     "name": "stdout",
     "text": [
      "2\n1\n0\n-1\n"
     ],
     "output_type": "stream"
    }
   ],
   "source": [
    "n = 3\n",
    "while n >= 0:\n",
    "    n -= 1\n",
    "    print(n)"
   ]
  },
  {
   "cell_type": "code",
   "execution_count": 2,
   "outputs": [
    {
     "name": "stdout",
     "text": [
      "3\n2\n1\n0\n"
     ],
     "output_type": "stream"
    }
   ],
   "source": [
    "n = 4\n",
    "while n > 0:\n",
    "    \n",
    "    n -= 1\n",
    "    print(n)"
   ],
   "metadata": {
    "collapsed": false,
    "pycharm": {
     "name": "#%%\n",
     "is_executing": false
    }
   }
  },
  {
   "cell_type": "code",
   "execution_count": 11,
   "outputs": [
    {
     "name": "stdout",
     "text": [
      "4\n2\n1\n4\n2\n1\nNone\n2.5\n"
     ],
     "output_type": "stream"
    }
   ],
   "source": [
    "def go(n):\n",
    "    if n % 2 != 0:\n",
    "        print(n / 2)\n",
    "        return\n",
    "    while n > 0:\n",
    "        print(n)\n",
    "        n = n // 2\n",
    "go(4)\n",
    "print(go(4)) #return will terminate the function\n",
    "go(5)"
   ],
   "metadata": {
    "collapsed": false,
    "pycharm": {
     "name": "#%%\n",
     "is_executing": false
    }
   }
  },
  {
   "cell_type": "code",
   "execution_count": 12,
   "outputs": [
    {
     "name": "stdout",
     "text": [
      "1\n0\n"
     ],
     "output_type": "stream"
    }
   ],
   "source": [
    "zero = 2\n",
    "while zero != 0:\n",
    "    zero = zero // 2\n",
    "    print(zero)"
   ],
   "metadata": {
    "collapsed": false,
    "pycharm": {
     "name": "#%%\n",
     "is_executing": false
    }
   }
  },
  {
   "cell_type": "code",
   "execution_count": 14,
   "outputs": [
    {
     "name": "stdout",
     "text": [
      "positive?\npositive?\npositive?\npositive?\npositive?\npositive?\npositive?\n"
     ],
     "output_type": "stream"
    }
   ],
   "source": [
    "positive = 28\n",
    "while positive:\n",
    "    print(\"positive?\")\n",
    "    positive -= 4"
   ],
   "metadata": {
    "collapsed": false,
    "pycharm": {
     "name": "#%%\n",
     "is_executing": false
    }
   }
  },
  {
   "cell_type": "code",
   "execution_count": 15,
   "outputs": [
    {
     "name": "stdout",
     "text": [
      "-9\n-6\n-3\n"
     ],
     "output_type": "stream"
    }
   ],
   "source": [
    "positive = -12\n",
    "negative = -9\n",
    "while negative:\n",
    "    if positive:\n",
    "        print(negative)\n",
    "        positive += 3\n",
    "        negative += 3\n"
   ],
   "metadata": {
    "collapsed": false,
    "pycharm": {
     "name": "#%%\n",
     "is_executing": false
    }
   }
  }
 ],
 "metadata": {
  "language_info": {
   "codemirror_mode": {
    "name": "ipython",
    "version": 2
   },
   "file_extension": ".py",
   "mimetype": "text/x-python",
   "name": "python",
   "nbconvert_exporter": "python",
   "pygments_lexer": "ipython2",
   "version": "2.7.6"
  },
  "kernelspec": {
   "name": "python3",
   "language": "python",
   "display_name": "Python 3"
  },
  "pycharm": {
   "stem_cell": {
    "cell_type": "raw",
    "source": [],
    "metadata": {
     "collapsed": false
    }
   }
  }
 },
 "nbformat": 4,
 "nbformat_minor": 0
}