{
 "cells": [
  {
   "cell_type": "markdown",
   "metadata": {
    "collapsed": true,
    "pycharm": {
     "name": "#%% md\n"
    }
   },
   "source": [
    "# What would Python display\n",
    "#### WWPD: Veritasiness"
   ]
  },
  {
   "cell_type": "code",
   "execution_count": 3,
   "outputs": [
    {
     "data": {
      "text/plain": "True"
     },
     "metadata": {},
     "output_type": "execute_result",
     "execution_count": 3
    }
   ],
   "source": [
    "True and 13"
   ],
   "metadata": {
    "collapsed": false,
    "pycharm": {
     "name": "#%%\n",
     "is_executing": false
    }
   }
  },
  {
   "cell_type": "code",
   "execution_count": 4,
   "outputs": [
    {
     "data": {
      "text/plain": "0"
     },
     "metadata": {},
     "output_type": "execute_result",
     "execution_count": 4
    }
   ],
   "source": [
    "False or 0"
   ],
   "metadata": {
    "collapsed": false,
    "pycharm": {
     "name": "#%%\n",
     "is_executing": false
    }
   }
  },
  {
   "cell_type": "code",
   "execution_count": 5,
   "outputs": [
    {
     "data": {
      "text/plain": "False"
     },
     "metadata": {},
     "output_type": "execute_result",
     "execution_count": 5
    }
   ],
   "source": [
    "not 10"
   ],
   "metadata": {
    "collapsed": false,
    "pycharm": {
     "name": "#%%\n",
     "is_executing": false
    }
   }
  },
  {
   "cell_type": "code",
   "execution_count": 6,
   "outputs": [
    {
     "data": {
      "text/plain": "True"
     },
     "metadata": {},
     "output_type": "execute_result",
     "execution_count": 6
    }
   ],
   "source": [
    "not None"
   ],
   "metadata": {
    "collapsed": false,
    "pycharm": {
     "name": "#%%\n",
     "is_executing": false
    }
   }
  },
  {
   "cell_type": "code",
   "execution_count": 7,
   "outputs": [
    {
     "traceback": [
      "\u001b[1;31m---------------------------------------------------------------------------\u001b[0m",
      "\u001b[1;31mZeroDivisionError\u001b[0m                         Traceback (most recent call last)",
      "\u001b[1;32m<ipython-input-7-da046ec8e9df>\u001b[0m in \u001b[0;36m<module>\u001b[1;34m\u001b[0m\n\u001b[1;32m----> 1\u001b[1;33m \u001b[1;32mTrue\u001b[0m \u001b[1;32mand\u001b[0m \u001b[1;36m1\u001b[0m \u001b[1;33m/\u001b[0m \u001b[1;36m0\u001b[0m \u001b[1;32mand\u001b[0m \u001b[1;32mFalse\u001b[0m\u001b[1;33m\u001b[0m\u001b[1;33m\u001b[0m\u001b[0m\n\u001b[0m",
      "\u001b[1;31mZeroDivisionError\u001b[0m: division by zero"
     ],
     "ename": "ZeroDivisionError",
     "evalue": "division by zero",
     "output_type": "error"
    }
   ],
   "source": [
    "True and 1 / 0 and False"
   ],
   "metadata": {
    "collapsed": false,
    "pycharm": {
     "name": "#%%\n",
     "is_executing": false
    }
   }
  },
  {
   "cell_type": "code",
   "execution_count": 9,
   "outputs": [
    {
     "data": {
      "text/plain": "True"
     },
     "metadata": {},
     "output_type": "execute_result",
     "execution_count": 9
    }
   ],
   "source": [
    "True or 1 / 0 or False"
   ],
   "metadata": {
    "collapsed": false,
    "pycharm": {
     "name": "#%%\n",
     "is_executing": false
    }
   }
  },
  {
   "cell_type": "code",
   "execution_count": 10,
   "outputs": [
    {
     "data": {
      "text/plain": "0"
     },
     "metadata": {},
     "output_type": "execute_result",
     "execution_count": 10
    }
   ],
   "source": [
    "True and 0"
   ],
   "metadata": {
    "collapsed": false,
    "pycharm": {
     "name": "#%%\n",
     "is_executing": false
    }
   }
  },
  {
   "cell_type": "code",
   "execution_count": 11,
   "outputs": [
    {
     "data": {
      "text/plain": "1"
     },
     "metadata": {},
     "output_type": "execute_result",
     "execution_count": 11
    }
   ],
   "source": [
    "False or 1"
   ],
   "metadata": {
    "collapsed": false,
    "pycharm": {
     "name": "#%%\n",
     "is_executing": false
    }
   }
  },
  {
   "cell_type": "code",
   "execution_count": 12,
   "outputs": [
    {
     "data": {
      "text/plain": "15"
     },
     "metadata": {},
     "output_type": "execute_result",
     "execution_count": 12
    }
   ],
   "source": [
    "1 and 3 and 6 and 10 and 15"
   ],
   "metadata": {
    "collapsed": false,
    "pycharm": {
     "name": "#%%\n",
     "is_executing": false
    }
   }
  },
  {
   "cell_type": "code",
   "execution_count": 13,
   "outputs": [
    {
     "data": {
      "text/plain": "2"
     },
     "metadata": {},
     "output_type": "execute_result",
     "execution_count": 13
    }
   ],
   "source": [
    "0 or False or 2 or 1 / 0 "
   ],
   "metadata": {
    "collapsed": false,
    "pycharm": {
     "name": "#%%\n",
     "is_executing": false
    }
   }
  },
  {
   "cell_type": "code",
   "execution_count": 14,
   "outputs": [
    {
     "data": {
      "text/plain": "True"
     },
     "metadata": {},
     "output_type": "execute_result",
     "execution_count": 14
    }
   ],
   "source": [
    "not 0"
   ],
   "metadata": {
    "collapsed": false,
    "pycharm": {
     "name": "#%%\n",
     "is_executing": false
    }
   }
  },
  {
   "cell_type": "code",
   "execution_count": 15,
   "outputs": [
    {
     "data": {
      "text/plain": "1"
     },
     "metadata": {},
     "output_type": "execute_result",
     "execution_count": 15
    }
   ],
   "source": [
    "(1 + 1) and 1"
   ],
   "metadata": {
    "collapsed": false,
    "pycharm": {
     "name": "#%%\n",
     "is_executing": false
    }
   }
  },
  {
   "cell_type": "code",
   "execution_count": 16,
   "outputs": [
    {
     "traceback": [
      "\u001b[1;31m---------------------------------------------------------------------------\u001b[0m",
      "\u001b[1;31mZeroDivisionError\u001b[0m                         Traceback (most recent call last)",
      "\u001b[1;32m<ipython-input-16-962cfa768e45>\u001b[0m in \u001b[0;36m<module>\u001b[1;34m\u001b[0m\n\u001b[1;32m----> 1\u001b[1;33m \u001b[1;36m1\u001b[0m\u001b[1;33m/\u001b[0m\u001b[1;36m0\u001b[0m \u001b[1;32mor\u001b[0m \u001b[1;32mTrue\u001b[0m\u001b[1;33m\u001b[0m\u001b[1;33m\u001b[0m\u001b[0m\n\u001b[0m",
      "\u001b[1;31mZeroDivisionError\u001b[0m: division by zero"
     ],
     "ename": "ZeroDivisionError",
     "evalue": "division by zero",
     "output_type": "error"
    }
   ],
   "source": [
    "1/0 or True"
   ],
   "metadata": {
    "collapsed": false,
    "pycharm": {
     "name": "#%%\n",
     "is_executing": false
    }
   }
  },
  {
   "cell_type": "code",
   "execution_count": 17,
   "outputs": [
    {
     "data": {
      "text/plain": "False"
     },
     "metadata": {},
     "output_type": "execute_result",
     "execution_count": 17
    }
   ],
   "source": [
    "(True or False) and False\n"
   ],
   "metadata": {
    "collapsed": false,
    "pycharm": {
     "name": "#%%\n",
     "is_executing": false
    }
   }
  },
  {
   "cell_type": "markdown",
   "source": [
    "#### WWPD: Veritasiness"
   ],
   "metadata": {
    "collapsed": false,
    "pycharm": {
     "name": "#%% md\n"
    }
   }
  },
  {
   "cell_type": "code",
   "execution_count": 18,
   "outputs": [
    {
     "name": "stdout",
     "text": [
      "2\n1\n0\n-1\n"
     ],
     "output_type": "stream"
    }
   ],
   "source": [
    "n = 3\n",
    "while n >= 0:\n",
    "    n -= 1\n",
    "    print(n)"
   ],
   "metadata": {
    "collapsed": false,
    "pycharm": {
     "name": "#%%\n",
     "is_executing": false
    }
   }
  },
  {
   "cell_type": "code",
   "execution_count": 19,
   "outputs": [
    {
     "name": "stdout",
     "text": [
      "4\n2\n1\n2.5\n"
     ],
     "output_type": "stream"
    }
   ],
   "source": [
    "def go(n):\n",
    "    if n % 2 != 0:\n",
    "        print(n / 2)\n",
    "        return\n",
    "    while n > 0:\n",
    "        print(n)\n",
    "        n = n // 2\n",
    "go(4)\n",
    "go(5)"
   ],
   "metadata": {
    "collapsed": false,
    "pycharm": {
     "name": "#%%\n",
     "is_executing": false
    }
   }
  },
  {
   "cell_type": "code",
   "execution_count": 21,
   "outputs": [
    {
     "name": "stdout",
     "text": [
      "0\n"
     ],
     "output_type": "stream"
    }
   ],
   "source": [
    "zero = 2\n",
    "while zero != 0:\n",
    "    zero = zero // 2\n",
    "print(zero)"
   ],
   "metadata": {
    "collapsed": false,
    "pycharm": {
     "name": "#%%\n",
     "is_executing": false
    }
   }
  },
  {
   "cell_type": "code",
   "execution_count": 22,
   "outputs": [
    {
     "name": "stdout",
     "text": [
      "-12\n-9\n-6\n"
     ],
     "output_type": "stream"
    }
   ],
   "source": [
    "positive = -9\n",
    "negative = -12\n",
    "while negative:\n",
    "   if positive:\n",
    "       print(negative)\n",
    "   positive += 3\n",
    "   negative += 3\n"
   ],
   "metadata": {
    "collapsed": false,
    "pycharm": {
     "name": "#%%\n",
     "is_executing": false
    }
   }
  },
  {
   "cell_type": "markdown",
   "source": [
    "#### WWPD: Truthiness"
   ],
   "metadata": {
    "collapsed": false,
    "pycharm": {
     "name": "#%% md\n"
    }
   }
  },
  {
   "cell_type": "code",
   "execution_count": 15,
   "outputs": [
    {
     "data": {
      "text/plain": "True"
     },
     "metadata": {},
     "output_type": "execute_result",
     "execution_count": 15
    }
   ],
   "source": [
    "0 or True"
   ],
   "metadata": {
    "collapsed": false,
    "pycharm": {
     "name": "#%%\n",
     "is_executing": false
    }
   }
  },
  {
   "cell_type": "code",
   "execution_count": 14,
   "outputs": [
    {
     "data": {
      "text/plain": "True"
     },
     "metadata": {},
     "output_type": "execute_result",
     "execution_count": 14
    }
   ],
   "source": [
    "not '' or not 0 and False"
   ],
   "metadata": {
    "collapsed": false,
    "pycharm": {
     "name": "#%%\n",
     "is_executing": false
    }
   }
  },
  {
   "cell_type": "code",
   "execution_count": 12,
   "outputs": [
    {
     "data": {
      "text/plain": "False"
     },
     "metadata": {},
     "output_type": "execute_result",
     "execution_count": 12
    }
   ],
   "source": [
    "13 and False"
   ],
   "metadata": {
    "collapsed": false,
    "pycharm": {
     "name": "#%%\n",
     "is_executing": false
    }
   }
  },
  {
   "cell_type": "code",
   "execution_count": null,
   "outputs": [],
   "source": [
    "False or 1"
   ],
   "metadata": {
    "collapsed": false,
    "pycharm": {
     "name": "#%%\n"
    }
   }
  },
  {
   "cell_type": "code",
   "execution_count": 16,
   "outputs": [
    {
     "traceback": [
      "\u001b[1;31m---------------------------------------------------------------------------\u001b[0m",
      "\u001b[1;31mZeroDivisionError\u001b[0m                         Traceback (most recent call last)",
      "\u001b[1;32m<ipython-input-16-a95f16bfad99>\u001b[0m in \u001b[0;36m<module>\u001b[1;34m\u001b[0m\n\u001b[1;32m----> 1\u001b[1;33m \u001b[1;34m''\u001b[0m \u001b[1;32mor\u001b[0m \u001b[1;36m1\u001b[0m \u001b[1;32mand\u001b[0m \u001b[1;36m1\u001b[0m\u001b[1;33m/\u001b[0m\u001b[1;36m0\u001b[0m\u001b[1;33m\u001b[0m\u001b[1;33m\u001b[0m\u001b[0m\n\u001b[0m",
      "\u001b[1;31mZeroDivisionError\u001b[0m: division by zero"
     ],
     "ename": "ZeroDivisionError",
     "evalue": "division by zero",
     "output_type": "error"
    }
   ],
   "source": [
    "'' or 1 and 1/0"
   ],
   "metadata": {
    "collapsed": false,
    "pycharm": {
     "name": "#%%\n",
     "is_executing": false
    }
   }
  },
  {
   "cell_type": "code",
   "execution_count": 17,
   "outputs": [
    {
     "data": {
      "text/plain": "12"
     },
     "metadata": {},
     "output_type": "execute_result",
     "execution_count": 17
    }
   ],
   "source": [
    "not 0 and 12 or 0\n"
   ],
   "metadata": {
    "collapsed": false,
    "pycharm": {
     "name": "#%%\n",
     "is_executing": false
    }
   }
  },
  {
   "cell_type": "markdown",
   "source": [
    "#### WWPD: What If?"
   ],
   "metadata": {
    "collapsed": false
   }
  },
  {
   "cell_type": "code",
   "execution_count": 19,
   "outputs": [
    {
     "data": {
      "text/plain": "25"
     },
     "metadata": {},
     "output_type": "execute_result",
     "execution_count": 19
    }
   ],
   "source": [
    "def xk(c, d):\n",
    "    if c == 4:\n",
    "        return 6\n",
    "    elif d >= 4:\n",
    "        return 6 + 7 + c\n",
    "    else:\n",
    "        return 25\n",
    "\n",
    "xk(10, 10)\n",
    "xk(10, 6)\n",
    "xk(4, 6)\n",
    "xk(0, 0)"
   ],
   "metadata": {
    "collapsed": false,
    "pycharm": {
     "name": "#%%\n",
     "is_executing": false
    }
   }
  },
  {
   "cell_type": "code",
   "execution_count": 18,
   "outputs": [
    {
     "name": "stdout",
     "text": [
      "huge\nsmall\nnothin'\n"
     ],
     "output_type": "stream"
    }
   ],
   "source": [
    "def how_big(x):\n",
    "    if x > 10:\n",
    "        print('huge')\n",
    "    elif x > 5:\n",
    "        return 'big'\n",
    "    elif x > 0:\n",
    "        print('small')\n",
    "    else:\n",
    "        print(\"nothin'\")\n",
    "how_big(7)\n",
    "how_big(12)\n",
    "how_big(1)\n",
    "how_big(-1)"
   ],
   "metadata": {
    "collapsed": false,
    "pycharm": {
     "name": "#%%\n",
     "is_executing": false
    }
   }
  },
  {
   "cell_type": "code",
   "execution_count": 20,
   "outputs": [
    {
     "name": "stdout",
     "text": [
      "huge\nsmall\nnothin'\n"
     ],
     "output_type": "stream"
    }
   ],
   "source": [
    "def so_big(x):\n",
    "    if x > 10:\n",
    "        print('huge')\n",
    "    if x > 5:\n",
    "        return 'big'\n",
    "    if x > 0:\n",
    "        print('small')\n",
    "    print(\"nothin'\")\n",
    "so_big(7)\n",
    "so_big(12)\n",
    "so_big(1)"
   ],
   "metadata": {
    "collapsed": false,
    "pycharm": {
     "name": "#%%\n",
     "is_executing": false
    }
   }
  },
  {
   "cell_type": "code",
   "execution_count": 21,
   "outputs": [
    {
     "name": "stdout",
     "text": [
      "10\nfoo\n"
     ],
     "output_type": "stream"
    }
   ],
   "source": [
    "def ab(c, d):\n",
    "    if c > 5:\n",
    "        print(c)\n",
    "    elif c > 7:\n",
    "        print(d)\n",
    "    print('foo')\n",
    "ab(10, 20)"
   ],
   "metadata": {
    "collapsed": false,
    "pycharm": {
     "name": "#%%\n",
     "is_executing": false
    }
   }
  },
  {
   "cell_type": "code",
   "execution_count": 23,
   "outputs": [
    {
     "name": "stdout",
     "text": [
      "mashed potatoes\n"
     ],
     "output_type": "stream"
    },
    {
     "data": {
      "text/plain": "'mashed potatoes'"
     },
     "metadata": {},
     "output_type": "execute_result",
     "execution_count": 23
    }
   ],
   "source": [
    "def bake(cake, make):\n",
    "    if cake == 0:\n",
    "        cake = cake + 1\n",
    "        print(cake)\n",
    "    if cake == 1:\n",
    "        print(make)\n",
    "    else:\n",
    "        return cake\n",
    "    return make\n",
    "bake(0, 29)\n",
    "bake(1, \"mashed potatoes\")"
   ],
   "metadata": {
    "collapsed": false,
    "pycharm": {
     "name": "#%%\n",
     "is_executing": false
    }
   }
  },
  {
   "cell_type": "markdown",
   "source": [
    "# Coding Practice\n",
    "#### Repeated"
   ],
   "metadata": {
    "collapsed": false,
    "pycharm": {
     "name": "#%% md\n"
    }
   }
  },
  {
   "cell_type": "code",
   "execution_count": 34,
   "outputs": [
    {
     "data": {
      "text/plain": "TestResults(failed=0, attempted=9)"
     },
     "metadata": {},
     "output_type": "execute_result",
     "execution_count": 34
    }
   ],
   "source": [
    "def repeated(f, n, x):\n",
    "    \"\"\"Returns the result of composing f n times on x.\n",
    "\n",
    "    >>> def square(x):\n",
    "    ...     return x * x\n",
    "    ...\n",
    "    >>> repeated(square, 2, 3)  # square(square(3)), or 3 ** 4\n",
    "    81\n",
    "    >>> repeated(square, 1, 4)  # square(4)\n",
    "    16\n",
    "    >>> repeated(square, 6, 2)  # big number\n",
    "    18446744073709551616\n",
    "    >>> def opposite(b):\n",
    "    ...     return not b\n",
    "    ...\n",
    "    >>> repeated(opposite, 4, True)\n",
    "    True\n",
    "    >>> repeated(opposite, 5, True)\n",
    "    False\n",
    "    >>> repeated(opposite, 631, 1)\n",
    "    False\n",
    "    >>> repeated(opposite, 3, 0)\n",
    "    True\n",
    "    \"\"\"\n",
    "    i = 1\n",
    "    while i <= n:\n",
    "        x=f(x)\n",
    "        i += 1\n",
    "    return x\n",
    "\n",
    "import doctest\n",
    "doctest.testmod()\n"
   ],
   "metadata": {
    "collapsed": false,
    "pycharm": {
     "name": "#%%\n",
     "is_executing": false
    }
   }
  },
  {
   "cell_type": "markdown",
   "source": [
    "#### Sum digits"
   ],
   "metadata": {
    "collapsed": false,
    "pycharm": {
     "name": "#%% md\n"
    }
   }
  },
  {
   "cell_type": "code",
   "execution_count": 5,
   "outputs": [
    {
     "data": {
      "text/plain": "TestResults(failed=0, attempted=3)"
     },
     "metadata": {},
     "output_type": "execute_result",
     "execution_count": 5
    }
   ],
   "source": [
    "def sum_digits(n):\n",
    "    \"\"\"Sum all the digits of n.\n",
    "\n",
    "    >>> sum_digits(10) # 1 + 0 = 1\n",
    "    1\n",
    "    >>> sum_digits(4224) # 4 + 2 + 2 + 4 = 12\n",
    "    12\n",
    "    >>> sum_digits(1234567890)\n",
    "    45\n",
    "    \"\"\"\n",
    "    n = str(n) #Pick digits from a number\n",
    "    le = len(n)\n",
    "    i = 0\n",
    "    sum = 0\n",
    "    while i < le:\n",
    "        sum = sum+int(n[i])\n",
    "        i += 1\n",
    "    return sum\n",
    "\n",
    "import doctest\n",
    "doctest.testmod()\n"
   ],
   "metadata": {
    "collapsed": false,
    "pycharm": {
     "name": "#%%\n",
     "is_executing": false
    }
   }
  },
  {
   "cell_type": "markdown",
   "source": [
    "#### Double Eights"
   ],
   "metadata": {
    "collapsed": false,
    "pycharm": {
     "name": "#%% md\n"
    }
   }
  },
  {
   "cell_type": "code",
   "execution_count": 11,
   "outputs": [
    {
     "data": {
      "text/plain": "TestResults(failed=0, attempted=9)"
     },
     "metadata": {},
     "output_type": "execute_result",
     "execution_count": 11
    }
   ],
   "source": [
    "def double_eights(n):\n",
    "    \"\"\"Return true if n has two eights in a row.\n",
    "    >>> double_eights(8)\n",
    "    False\n",
    "    >>> double_eights(88)\n",
    "    True\n",
    "    >>> double_eights(2882)\n",
    "    True\n",
    "    >>> double_eights(880088)\n",
    "    True\n",
    "    >>> double_eights(12345)\n",
    "    False\n",
    "    >>> double_eights(80808080)\n",
    "    False\n",
    "    \"\"\"\n",
    "    n=str(n)\n",
    "    i = 0\n",
    "    while i < len(n)-1:\n",
    "        if n[i] == str(8):\n",
    "            if n[i+1] == str(8):\n",
    "                return True\n",
    "            else:\n",
    "                i += 1\n",
    "        else:\n",
    "            i += 1\n",
    "    return False\n",
    "\n",
    "import doctest\n",
    "doctest.testmod()\n"
   ],
   "metadata": {
    "collapsed": false,
    "pycharm": {
     "name": "#%%\n",
     "is_executing": false
    }
   }
  },
  {
   "cell_type": "markdown",
   "source": [
    "#### Falling Factorial"
   ],
   "metadata": {
    "collapsed": false,
    "pycharm": {
     "name": "#%% md\n"
    }
   }
  },
  {
   "cell_type": "code",
   "execution_count": 31,
   "outputs": [
    {
     "data": {
      "text/plain": "TestResults(failed=0, attempted=13)"
     },
     "metadata": {},
     "output_type": "execute_result",
     "execution_count": 31
    }
   ],
   "source": [
    "def falling(n, k):\n",
    "    \"\"\"Compute the falling factorial of n to depth k.\n",
    "\n",
    "    >>> falling(6, 3)  # 6 * 5 * 4\n",
    "    120\n",
    "    >>> falling(4, 0)\n",
    "    1\n",
    "    >>> falling(4, 3)  # 4 * 3 * 2\n",
    "    24\n",
    "    >>> falling(4, 1)  # 4\n",
    "    4\n",
    "    \"\"\"\n",
    "    i = 0\n",
    "    s = 1\n",
    "    while n-k+1+i <= n:\n",
    "        s = s*(n-k+1+i)\n",
    "        i += 1\n",
    "    return s\n",
    "\n",
    "import doctest\n",
    "doctest.testmod()\n"
   ],
   "metadata": {
    "collapsed": false,
    "pycharm": {
     "name": "#%%\n",
     "is_executing": false
    }
   }
  },
  {
   "cell_type": "markdown",
   "source": [
    "# I want to play a game"
   ],
   "metadata": {
    "collapsed": false,
    "pycharm": {
     "name": "#%% md\n"
    }
   }
  },
  {
   "cell_type": "code",
   "execution_count": null,
   "outputs": [],
   "source": [
    "from random import randint\n",
    "\n",
    "LOWER = 1\n",
    "UPPER = 10\n",
    "\n",
    "def guess_random():\n",
    "    \"\"\"Guess randomly and return the number of guesses.\"\"\"\n",
    "    prompt_for_number(LOWER, UPPER)   # asks the user to choose a number\n",
    "    num_guesses, correct = 0, False\n",
    "    while not correct:\n",
    "        guess = randint(LOWER, UPPER) # randomly guess\n",
    "        correct = is_correct(guess)   # ask user if guess is correct\n",
    "        num_guesses = num_guesses + 1\n",
    "    return num_guesses\n",
    "\n",
    "def guess_linear():\n",
    "    \"\"\"Guess in increasing order and return the number of guesses.\"\"\"\n",
    "    prompt_for_number(LOWER, UPPER)\n",
    "    num_guesses = 1\n",
    "    guess = LOWER\n",
    "    \n",
    "    while not is_correct(guess):\n",
    "        guess += 1\n",
    "        num_guesses += 1\n",
    "    return num_guesses\n",
    "\n",
    "def guess_binary():\n",
    "    \"\"\"Return the number of attempted guesses. Implement a faster search\n",
    "    algorithm that asks the user whether a guess is less than or greater than\n",
    "    the correct number.\n",
    "    Hint: If you know the guess is greater than the correct number, then your\n",
    "    algorithm doesn't need to try numbers that are greater than guess.\n",
    "    \"\"\"\n",
    "    prompt_for_number(LOWER, UPPER)\n",
    "    num_guesses = 1\n",
    "    lower, upper = LOWER, UPPER\n",
    "    guess = (lower + upper) // 2\n",
    "    \n",
    "    while not is_correct(guess):\n",
    "        if is_too_high(guess):\n",
    "            upper = guess\n",
    "        else:\n",
    "            lower = guess\n",
    "        guess = (lower + upper) // 2\n",
    "        num_guesses += 1\n",
    "    return num_guesses\n",
    "\n",
    "# Receive user input. You do not need to understand the code below this line.\n",
    "\n",
    "def prompt_for_number(lower, upper):\n",
    "    \"\"\"Prompt the user for a number between lower and upper. Return None.\"\"\"\n",
    "    is_valid_number = False\n",
    "    while not is_valid_number:\n",
    "        # You don't need to understand the following two lines.\n",
    "        number = input('Pick an integer between {0} and {1} (inclusive) for me to guess: '.format(lower, upper))\n",
    "        number = int(number)\n",
    "        if lower <= number <= upper:\n",
    "            is_valid_number = True\n",
    "\n",
    "def is_correct(guess):\n",
    "    \"\"\"Ask the user if a guess is correct and return whether they respond y.\"\"\"\n",
    "    return is_yes('Is {0} your number? [y/n] '.format(guess))\n",
    "\n",
    "def is_too_high(guess):\n",
    "    \"\"\"Ask the user if a guess is too high and return whether they say yes.\"\"\"\n",
    "    return is_yes('Is {0} too high? [y/n] '.format(guess))\n",
    "\n",
    "def is_yes(prompt):\n",
    "    \"\"\"Ask the user a yes or no question and return whether they say yes.\"\"\"\n",
    "    while True: # This while statement will loop until a \"return\" is reached.\n",
    "        yes_no = input(prompt).strip()\n",
    "        if yes_no == 'y':\n",
    "            return True\n",
    "        elif yes_no == 'n':\n",
    "            return False\n",
    "        print('Please type y or n and press return/enter')"
   ],
   "metadata": {
    "collapsed": false,
    "pycharm": {
     "name": "#%%\n"
    }
   }
  }
 ],
 "metadata": {
  "language_info": {
   "codemirror_mode": {
    "name": "ipython",
    "version": 2
   },
   "file_extension": ".py",
   "mimetype": "text/x-python",
   "name": "python",
   "nbconvert_exporter": "python",
   "pygments_lexer": "ipython2",
   "version": "2.7.6"
  },
  "kernelspec": {
   "name": "python3",
   "language": "python",
   "display_name": "Python 3"
  },
  "pycharm": {
   "stem_cell": {
    "cell_type": "raw",
    "source": [],
    "metadata": {
     "collapsed": false
    }
   }
  }
 },
 "nbformat": 4,
 "nbformat_minor": 0
}