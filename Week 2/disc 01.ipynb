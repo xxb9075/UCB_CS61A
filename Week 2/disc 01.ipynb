{
 "cells": [
  {
   "cell_type": "markdown",
   "metadata": {
    "collapsed": true,
    "pycharm": {
     "name": "#%% md\n"
    }
   },
   "source": [
    "# If statements and Boolean Operators\n",
    "#### Alfonso will only wear a jacket outside if it is below 60 degrees or it is raining. Write a function that takes in the current temperature and a Boolean value telling if it is raining and returns True if Alfonso will wear a jacket and False otherwise.¶"
   ]
  },
  {
   "cell_type": "code",
   "execution_count": null,
   "outputs": [],
   "source": [
    "def wears_jacket(temp, raining):\n",
    "    \"\"\"\n",
    "    >>> wears_jacket(90, False)\n",
    "    False\n",
    "    >>> wears_jacket(40, False)\n",
    "    True\n",
    "    >>> wears_jacket(100, True)\n",
    "    True\n",
    "    \"\"\"\n",
    "    return temp < 60 or raining\n",
    "\n",
    "import doctest\n",
    "doctest.testmod()"
   ],
   "metadata": {
    "collapsed": false,
    "pycharm": {
     "name": "#%%\n"
    }
   }
  },
  {
   "cell_type": "markdown",
   "source": [
    "#### Write a function that takes in the number of students in two sections and prints out what to do if either section exceeds 30 students.¶"
   ],
   "metadata": {
    "collapsed": false,
    "pycharm": {
     "name": "#%% md\n"
    }
   }
  },
  {
   "cell_type": "code",
   "execution_count": null,
   "outputs": [],
   "source": [
    "def handle_overflow(s1, s2):\n",
    "    \"\"\"\n",
    "    >>> handle_overflow(27, 15)\n",
    "    No overflow\n",
    "    >>> handle_overflow(35, 29)\n",
    "    Move to Section 2: 1\n",
    "    >>> handle_overflow(20, 32)\n",
    "    Move to Section 1: 10\n",
    "    >>> handle_overflow(35, 30)\n",
    "    No space left in either section\n",
    "    \"\"\"\n",
    "    if s1 < 30 and s2 < 30:\n",
    "        print(\"No overflow\")\n",
    "    elif s1 >= 30 and s2 >= 30:\n",
    "        print(\"No space left in either section\")\n",
    "    else:\n",
    "        if s1 >= 30:\n",
    "            print(\"Move to Section 2:\", 30-s2)\n",
    "        else:\n",
    "            print(\"Move to Section 1:\", 30-s1)\n",
    "\n",
    "import doctest\n",
    "doctest.testmod()"
   ],
   "metadata": {
    "collapsed": false,
    "pycharm": {
     "name": "#%%\n"
    }
   }
  },
  {
   "cell_type": "markdown",
   "source": [
    "# While loops\n",
    "#### Write a function that returns True if n is a prime number and False otherwise. After you have a working solution, think about potential ways to make your solution more ecient."
   ],
   "metadata": {
    "collapsed": false,
    "pycharm": {
     "name": "#%% md\n"
    }
   }
  },
  {
   "cell_type": "code",
   "execution_count": null,
   "outputs": [],
   "source": [
    "def is_prime(n):\n",
    "    \"\"\"\n",
    "    >>> is_prime(10)\n",
    "    False\n",
    "    >>> is_prime(7)\n",
    "    True\n",
    "    \"\"\"\n",
    "    if n == 1:\n",
    "        return False\n",
    "    else:\n",
    "        i=2\n",
    "        while i < n:\n",
    "            if n % i == 0:\n",
    "                return False\n",
    "            else:\n",
    "                i = i+1\n",
    "        return True\n",
    "\n",
    "import doctest\n",
    "doctest.testmod()\n"
   ],
   "metadata": {
    "collapsed": false,
    "pycharm": {
     "name": "#%%\n"
    }
   }
  },
  {
   "cell_type": "markdown",
   "source": [
    "# Higher Order Functions¶\n",
    "### Functions as Arguments\n",
    "#### Write a function that takes in a function cond and a number n and prints numbers from 1 to n where calling cond on that number returns True.¶"
   ],
   "metadata": {
    "collapsed": false,
    "pycharm": {
     "name": "#%% md\n"
    }
   }
  },
  {
   "cell_type": "code",
   "execution_count": null,
   "outputs": [],
   "source": [
    "def keep_ints(cond, n):\n",
    "    \"\"\"Print out all integers 1..i..n where cond(i) is true\n",
    "    >>> def is_even(x):\n",
    "    ... # Even numbers have remainder 0 when divided by 2.\n",
    "    ...     return x % 2 == 0\n",
    "    >>> keep_ints(is_even, 5)\n",
    "    2\n",
    "    4\n",
    "    \"\"\"\n",
    "    i = 1\n",
    "    while i < n:\n",
    "        if cond(i):\n",
    "            print(i)\n",
    "        i += 1\n",
    "        \n",
    "import doctest\n",
    "doctest.testmod()"
   ],
   "metadata": {
    "collapsed": false,
    "pycharm": {
     "name": "#%%\n"
    }
   }
  },
  {
   "cell_type": "markdown",
   "source": [
    "### Functions as Return Values¶\n",
    "#### Write a function similar to keep_ints like before, but now it takes in a number n and returns a function that has one parameter cond. The returned function prints out numbers from 1 to n where calling cond on that number returns True.¶"
   ],
   "metadata": {
    "collapsed": false,
    "pycharm": {
     "name": "#%% md\n"
    }
   }
  },
  {
   "cell_type": "code",
   "execution_count": null,
   "outputs": [],
   "source": [
    "def keep_ints(n):\n",
    "    \"\"\"Returns a function which takes one parameter cond and prints out\n",
    "    all integers 1..i..n where calling cond(i) returns True.\n",
    "    >>> def is_even(x):\n",
    "    ... # Even numbers have remainder 0 when divided by 2.\n",
    "    ...     return x % 2 == 0\n",
    "    >>> keep_ints(7)(is_even)\n",
    "    2\n",
    "    4\n",
    "    6\n",
    "    \"\"\"\n",
    "    def cond(x):\n",
    "        i = 1\n",
    "        while i<n:\n",
    "            if x(i):\n",
    "                print (i)\n",
    "            i += 1\n",
    "    return cond\n",
    "\n",
    "import doctest\n",
    "doctest.testmod()"
   ],
   "metadata": {
    "collapsed": false,
    "pycharm": {
     "name": "#%%\n"
    }
   }
  }
 ],
 "metadata": {
  "language_info": {
   "codemirror_mode": {
    "name": "ipython",
    "version": 2
   },
   "file_extension": ".py",
   "mimetype": "text/x-python",
   "name": "python",
   "nbconvert_exporter": "python",
   "pygments_lexer": "ipython2",
   "version": "2.7.6"
  },
  "kernelspec": {
   "name": "python3",
   "language": "python",
   "display_name": "Python 3"
  },
  "pycharm": {
   "stem_cell": {
    "cell_type": "raw",
    "source": [],
    "metadata": {
     "collapsed": false
    }
   }
  }
 },
 "nbformat": 4,
 "nbformat_minor": 0
}