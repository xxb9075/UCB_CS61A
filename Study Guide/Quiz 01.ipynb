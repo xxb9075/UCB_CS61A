{
 "cells": [
  {
   "cell_type": "markdown",
   "source": [
    "### Practice problems\n",
    "#### Distance"
   ],
   "metadata": {
    "collapsed": false
   }
  },
  {
   "cell_type": "code",
   "execution_count": null,
   "outputs": [],
   "source": [
    "from math import sqrt\n",
    "\n",
    "def distance(x1, y1, x2, y2):\n",
    "    \"\"\"Calculates the Euclidian distance between two points (x1, y1) and (x2, y2)\n",
    "\n",
    "    >>> distance(1, 1, 1, 2)\n",
    "    1.0\n",
    "    >>> distance(1, 3, 1, 1)\n",
    "    2.0\n",
    "    >>> distance(1, 2, 3, 4)\n",
    "    2.8284271247461903\n",
    "    \"\"\"\n",
    "    return sqrt((x1-x2)**2+(y1-y2)**2)\n",
    "\n",
    "import doctest\n",
    "doctest.testmod()\n"
   ],
   "metadata": {
    "collapsed": false,
    "pycharm": {
     "name": "#%%\n"
    }
   }
  },
  {
   "cell_type": "markdown",
   "source": [
    "#### Distance (3D)"
   ],
   "metadata": {
    "collapsed": false
   }
  },
  {
   "cell_type": "code",
   "execution_count": null,
   "outputs": [],
   "source": [
    "from math import sqrt\n",
    "\n",
    "def distance3d(x1, y1, z1, x2, y2, z2):\n",
    "    \"\"\"Calculates the 3D Euclidian distance between two points (x1, y1, z1) and\n",
    "    (x2, y2, z2).\n",
    "\n",
    "    >>> distance3d(1, 1, 1, 1, 2, 1)\n",
    "    1.0\n",
    "    >>> distance3d(2, 3, 5, 5, 8, 3)\n",
    "    6.164414002968976\n",
    "    \"\"\"\n",
    "    return sqrt((x1-x2)**2+(y1-y2)**2+(z1-z2)**2)\n",
    "\n",
    "import doctest\n",
    "doctest.testmod()\n"
   ],
   "metadata": {
    "collapsed": false,
    "pycharm": {
     "name": "#%%\n"
    }
   }
  },
  {
   "cell_type": "markdown",
   "source": [
    "#### Harmony"
   ],
   "metadata": {
    "collapsed": false
   }
  },
  {
   "cell_type": "code",
   "execution_count": null,
   "outputs": [],
   "source": [
    "def harmonic(x, y):\n",
    "    \"\"\"Return the harmonic mean of x and y.\n",
    "\n",
    "    >>> harmonic(2, 6)\n",
    "    3.0\n",
    "    >>> harmonic(1, 1)\n",
    "    1.0\n",
    "    >>> harmonic(2.5, 7.5)\n",
    "    3.75\n",
    "\n",
    "    \"\"\"\n",
    "    return 2/(1/x+1/y)\n",
    "\n",
    "import doctest\n",
    "doctest.testmod()\n"
   ],
   "metadata": {
    "collapsed": false,
    "pycharm": {
     "name": "#%%\n"
    }
   }
  },
  {
   "cell_type": "markdown",
   "source": [
    "#### Enviroments"
   ],
   "metadata": {
    "collapsed": false
   }
  },
  {
   "cell_type": "code",
   "execution_count": null,
   "outputs": [],
   "source": [
    "def f(x):\n",
    "    f(x)\n",
    "print, f = f, print\n",
    "a = f(4)\n",
    "a\n",
    "b = print(4)\n",
    "b\n"
   ],
   "metadata": {
    "collapsed": false,
    "pycharm": {
     "name": "#%%\n"
    }
   }
  },
  {
   "cell_type": "markdown",
   "source": [
    "#### Last Square"
   ],
   "metadata": {
    "collapsed": false
   }
  },
  {
   "cell_type": "code",
   "execution_count": null,
   "outputs": [],
   "source": [
    "def last_square(x):\n",
    "    \"\"\"Return the largest perfect square less than X, where X>0.\n",
    "\n",
    "    >>> last_square(10)\n",
    "    9\n",
    "    >>> last_square(39)\n",
    "    36\n",
    "    >>> last_square(100)\n",
    "    81\n",
    "    >>> result = last_square(2) # Return, don't print\n",
    "    >>> result\n",
    "    1\n",
    "    \"\"\"\n",
    "    i=1\n",
    "    while i**2 < x:\n",
    "        i += 1\n",
    "    return (i-1)**2\n",
    "\n",
    "import doctest\n",
    "doctest.testmod()\n"
   ],
   "metadata": {
    "collapsed": false,
    "pycharm": {
     "name": "#%%\n"
    }
   }
  },
  {
   "cell_type": "markdown",
   "source": [
    "#### Overlaps"
   ],
   "metadata": {
    "collapsed": false
   }
  },
  {
   "cell_type": "code",
   "execution_count": null,
   "outputs": [],
   "source": [
    "def overlaps(low0, high0, low1, high1):\n",
    "    \"\"\"Return whether the open intervals (LOW0, HIGH0) and (LOW1, HIGH1)\n",
    "    overlap.\n",
    "\n",
    "    >>> overlaps(10, 15, 14, 16)\n",
    "    True\n",
    "    >>> overlaps(10, 15, 1, 5)\n",
    "    False\n",
    "    >>> overlaps(10, 10, 9, 11)\n",
    "    False\n",
    "    >>> result = overlaps(1, 5, 0, 3)  # Return, don't print\n",
    "    >>> result\n",
    "    True\n",
    "\n",
    "    \"\"\"\n",
    "    if high0 > high1:\n",
    "        if low0 > high1:\n",
    "            return False\n",
    "        else:\n",
    "            return True\n",
    "    elif high0 < low1:\n",
    "        return False\n",
    "    elif low0 == high0 or low1 == high1:\n",
    "        return False\n",
    "    else:\n",
    "        return True\n",
    "        \n",
    "import doctest\n",
    "doctest.testmod()\n"
   ],
   "metadata": {
    "collapsed": false,
    "pycharm": {
     "name": "#%%\n"
    }
   }
  },
  {
   "cell_type": "markdown",
   "source": [
    "#### Triangular Numbers"
   ],
   "metadata": {
    "collapsed": false
   }
  },
  {
   "cell_type": "code",
   "execution_count": null,
   "outputs": [],
   "source": [
    "def triangular_sum(n):\n",
    "    \"\"\"\n",
    "    >>> t_sum = triangular_sum(5)\n",
    "    1\n",
    "    3\n",
    "    6\n",
    "    10\n",
    "    15\n",
    "    >>> t_sum\n",
    "    35\n",
    "    \"\"\"\n",
    "    i = 1\n",
    "    s = 0\n",
    "    while i <= n:\n",
    "        t = int((i+1)*i/2)\n",
    "        print(t)\n",
    "        s = t+s\n",
    "        i += 1\n",
    "    return s\n",
    "\n",
    "import doctest\n",
    "doctest.testmod()\n"
   ],
   "metadata": {
    "collapsed": false,
    "pycharm": {
     "name": "#%%\n"
    }
   }
  },
  {
   "cell_type": "markdown",
   "source": [
    "#### Same Hailstone"
   ],
   "metadata": {
    "collapsed": false
   }
  },
  {
   "cell_type": "code",
   "execution_count": null,
   "outputs": [],
   "source": [
    "def same_hailstone(a, b):\n",
    "    \"\"\"Return whether a and b are both members of the same hailstone\n",
    "    sequence.\n",
    "\n",
    "    >>> same_hailstone(10, 16) # 10, 5, 16, 8, 4, 2, 1\n",
    "    True\n",
    "    >>> same_hailstone(16, 10) # order doesn't matter\n",
    "    True\n",
    "    >>> result = same_hailstone(3, 19) # return, don't print\n",
    "    >>> result\n",
    "    False\n",
    "\n",
    "    \"\"\"\n",
    "    t=a\n",
    "    while t != 1:\n",
    "        if b == t:\n",
    "            return True\n",
    "        if t%2 == 0:\n",
    "            t = int(t/2)\n",
    "        else:\n",
    "            t = t*3+1\n",
    "    t=b\n",
    "    while b != 1:\n",
    "        if a == b:\n",
    "            return True\n",
    "        if b%2 == 0:\n",
    "            b = int(b/2)\n",
    "        else:\n",
    "            b = b*3+1\n",
    "    return False\n",
    "\n",
    "import doctest\n",
    "doctest.testmod()\n"
   ],
   "metadata": {
    "collapsed": false,
    "pycharm": {
     "name": "#%%\n"
    }
   }
  },
  {
   "cell_type": "markdown",
   "source": [
    "#### Nearest Power of Two"
   ],
   "metadata": {
    "collapsed": false
   }
  },
  {
   "cell_type": "code",
   "execution_count": null,
   "outputs": [],
   "source": [
    "def nearest_two(x):\n",
    "    \"\"\"Return the power of two that is nearest to x.\n",
    "\n",
    "    >>> nearest_two(8)    # 2 * 2 * 2 is 8\n",
    "    8.0\n",
    "    >>> nearest_two(11.5) # 11.5 is closer to 8 than 16\n",
    "    8.0\n",
    "    >>> nearest_two(14)   # 14 is closer to 16 than 8\n",
    "    16.0\n",
    "    >>> nearest_two(2015)\n",
    "    2048.0\n",
    "    >>> nearest_two(.1)\n",
    "    0.125\n",
    "    >>> nearest_two(0.75) # Tie between 1/2 and 1\n",
    "    1.0\n",
    "    >>> nearest_two(1.5)  # Tie between 1 and 2\n",
    "    2.0\n",
    "\n",
    "    \"\"\"\n",
    "    power_of_two = 0.0\n",
    "    i = 0.0\n",
    "    while not 2**i <= x <= 2**(i+1):\n",
    "        if x>2**(i+1):\n",
    "            i += 1\n",
    "        else:\n",
    "            i -= 1\n",
    "    if x-2**i>=2**(i+1)-x:\n",
    "        power_of_two = 2**(i+1)\n",
    "    else:\n",
    "        power_of_two = 2**i\n",
    "    return power_of_two\n",
    "\n",
    "import doctest\n",
    "doctest.testmod()\n"
   ],
   "metadata": {
    "collapsed": false,
    "pycharm": {
     "name": "#%%\n"
    }
   }
  },
  {
   "cell_type": "markdown",
   "source": [
    "#### Pi Fraction"
   ],
   "metadata": {
    "collapsed": false
   }
  },
  {
   "cell_type": "code",
   "execution_count": 5,
   "outputs": [
    {
     "name": "stderr",
     "text": [
      "\nPYDEV DEBUGGER WARNING:\nsys.settrace() should not be used when the debugger is being used.\nThis may cause the debugger to stop working correctly.\nIf this is needed, please check: \nhttp://pydev.blogspot.com/2007/06/why-cant-pydev-debugger-work-with.html\nto see how to restore the debug tracing back correctly.\nCall Location:\n  File \"e:\\python\\python37\\lib\\doctest.py\", line 1479, in run\n    sys.settrace(save_trace)\n\n"
     ],
     "output_type": "stream"
    },
    {
     "data": {
      "text/plain": "TestResults(failed=0, attempted=4)"
     },
     "metadata": {},
     "output_type": "execute_result",
     "execution_count": 5
    }
   ],
   "source": [
    "from math import pi\n",
    "\n",
    "def pi_fraction(gap):\n",
    "    \"\"\"Print the fraction within gap of pi that has the smallest denominator.\n",
    "\n",
    "    >>> pi_fraction(0.01)\n",
    "    22 / 7 = 3.142857142857143\n",
    "    >>> pi_fraction(1)\n",
    "    3 / 1 = 3.0\n",
    "    >>> pi_fraction(1/8)\n",
    "    13 / 4 = 3.25\n",
    "    >>> pi_fraction(1e-6)\n",
    "    355 / 113 = 3.1415929203539825\n",
    "\n",
    "    \"\"\"\n",
    "    numerator, denominator = 3, 1\n",
    "\n",
    "    while abs(numerator/denominator - pi) > gap:\n",
    "        denominator = denominator + 1\n",
    "        numerator = round(pi * denominator)\n",
    "\n",
    "    print(numerator, '/', denominator, '=', numerator/denominator)\n",
    "    \n",
    "import doctest\n",
    "doctest.testmod()\n"
   ],
   "metadata": {
    "collapsed": false,
    "pycharm": {
     "name": "#%%\n",
     "is_executing": false
    }
   }
  },
  {
   "cell_type": "code",
   "execution_count": null,
   "outputs": [],
   "source": [
    "\n"
   ],
   "metadata": {
    "collapsed": false,
    "pycharm": {
     "name": "#%%\n"
    }
   }
  }
 ],
 "metadata": {
  "language_info": {
   "codemirror_mode": {
    "name": "ipython",
    "version": 2
   },
   "file_extension": ".py",
   "mimetype": "text/x-python",
   "name": "python",
   "nbconvert_exporter": "python",
   "pygments_lexer": "ipython2",
   "version": "2.7.6"
  },
  "kernelspec": {
   "name": "python3",
   "language": "python",
   "display_name": "Python 3"
  },
  "pycharm": {
   "stem_cell": {
    "cell_type": "raw",
    "source": [],
    "metadata": {
     "collapsed": false
    }
   }
  }
 },
 "nbformat": 4,
 "nbformat_minor": 0
}