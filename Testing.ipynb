{
 "cells": [
  {
   "cell_type": "code",
   "execution_count": 2,
   "outputs": [
    {
     "name": "stdout",
     "text": [
      "**********************************************************************\nFile \"__main__\", line 18, in __main__.cycle\nFailed example:\n    do_all_functions(2)\nException raised:\n    Traceback (most recent call last):\n      File \"e:\\python\\python37\\lib\\doctest.py\", line 1329, in __run\n        compileflags, 1), test.globs)\n      File \"<doctest __main__.cycle[9]>\", line 1, in <module>\n        do_all_functions(2)\n      File \"<ipython-input-2-7ea5a4881330>\", line 33, in g\n        return f3(f2(f1(f(n-3))))\n      File \"<doctest __main__.cycle[0]>\", line 2, in add1\n        return x + 1\n    TypeError: unsupported operand type(s) for +: 'function' and 'int'\n**********************************************************************\nFile \"__main__\", line 21, in __main__.cycle\nFailed example:\n    do_more_than_a_cycle(2)\nExpected:\n    10\nGot:\n    4\n**********************************************************************\nFile \"__main__\", line 24, in __main__.cycle\nFailed example:\n    do_two_cycles(1)\nException raised:\n    Traceback (most recent call last):\n      File \"e:\\python\\python37\\lib\\doctest.py\", line 1329, in __run\n        compileflags, 1), test.globs)\n      File \"<doctest __main__.cycle[13]>\", line 1, in <module>\n        do_two_cycles(1)\n      File \"<ipython-input-2-7ea5a4881330>\", line 33, in g\n        return f3(f2(f1(f(n-3))))\n      File \"<doctest __main__.cycle[0]>\", line 2, in add1\n        return x + 1\n    TypeError: unsupported operand type(s) for +: 'function' and 'int'\n**********************************************************************\n1 items had failures:\n   3 of  14 in __main__.cycle\n***Test Failed*** 3 failures.\n"
     ],
     "output_type": "stream"
    },
    {
     "data": {
      "text/plain": "TestResults(failed=3, attempted=14)"
     },
     "metadata": {},
     "output_type": "execute_result",
     "execution_count": 2
    }
   ],
   "source": [
    "def cycle(f1, f2, f3):\n",
    "    \"\"\"Returns a function that is itself a higher-order function.\n",
    "\n",
    "    >>> def add1(x):\n",
    "    ...     return x + 1\n",
    "    >>> def times2(x):\n",
    "    ...     return x * 2\n",
    "    >>> def add3(x):\n",
    "    ...     return x + 3\n",
    "    >>> my_cycle = cycle(add1, times2, add3)\n",
    "    >>> identity = my_cycle(0)\n",
    "    >>> identity(5)\n",
    "    5\n",
    "    >>> add_one_then_double = my_cycle(2)\n",
    "    >>> add_one_then_double(1)\n",
    "    4\n",
    "    >>> do_all_functions = my_cycle(3)\n",
    "    >>> do_all_functions(2)\n",
    "    9\n",
    "    >>> do_more_than_a_cycle = my_cycle(4)\n",
    "    >>> do_more_than_a_cycle(2)\n",
    "    10\n",
    "    >>> do_two_cycles = my_cycle(6)\n",
    "    >>> do_two_cycles(1)\n",
    "    19\n",
    "    \"\"\"\n",
    "    def f(n):\n",
    "        def g(x):\n",
    "            if n%3 == 0:\n",
    "                if n == 0:\n",
    "                    return x\n",
    "                else:\n",
    "                    return f3(f2(f1(f(n-3))))\n",
    "            if n%3 == 1:\n",
    "                if n == 1:\n",
    "                    return f1(x)\n",
    "                else:\n",
    "                    return f1(f(n-3)(x))\n",
    "            if n%3 == 2:\n",
    "                if n == 2:\n",
    "                    return f2(f1(x))\n",
    "                else:\n",
    "                    return f2(f1(f(n-3)))\n",
    "        return g\n",
    "    return f\n",
    "\n",
    "import doctest\n",
    "doctest.testmod()\n",
    "\n"
   ],
   "metadata": {
    "collapsed": false,
    "pycharm": {
     "name": "#%%\n",
     "is_executing": false
    }
   }
  },
  {
   "cell_type": "code",
   "execution_count": null,
   "outputs": [],
   "source": [
    "\n"
   ],
   "metadata": {
    "collapsed": false,
    "pycharm": {
     "name": "#%%\n"
    }
   }
  }
 ],
 "metadata": {
  "language_info": {
   "codemirror_mode": {
    "name": "ipython",
    "version": 2
   },
   "file_extension": ".py",
   "mimetype": "text/x-python",
   "name": "python",
   "nbconvert_exporter": "python",
   "pygments_lexer": "ipython2",
   "version": "2.7.6"
  },
  "kernelspec": {
   "name": "python3",
   "language": "python",
   "display_name": "Python 3"
  },
  "pycharm": {
   "stem_cell": {
    "cell_type": "raw",
    "source": [],
    "metadata": {
     "collapsed": false
    }
   }
  }
 },
 "nbformat": 4,
 "nbformat_minor": 0
}